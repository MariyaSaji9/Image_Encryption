{
  "nbformat": 4,
  "nbformat_minor": 0,
  "metadata": {
    "colab": {
      "provenance": []
    },
    "kernelspec": {
      "name": "python3",
      "display_name": "Python 3"
    },
    "language_info": {
      "name": "python"
    }
  },
  "cells": [
    {
      "cell_type": "code",
      "execution_count": null,
      "metadata": {
        "id": "gtVg2SjnC88P"
      },
      "outputs": [],
      "source": [
        "from PIL import Image\n",
        "import math\n",
        "# Same as NPCR both are used for sensitivity analysis two encrypted image is required\n",
        "\n",
        "\"\"\"\n",
        "Unified average avereage inensity changed rate\n",
        "this code calculates average intensity change rate of pixels\n",
        "\"\"\"\n",
        "def uaci(loc1,loc2):\n",
        "    image1 = Image.open(loc1)\n",
        "    image2 = Image.open(loc2)\n",
        "    pixel1=image1.load()\n",
        "    pixel2=image2.load()\n",
        "    width,height=image1.size\n",
        "    value=0.0\n",
        "    for y in range(0,height):\n",
        "        for x in range(0,width):\n",
        "            value=(abs(pixel1[x,y][0]-pixel2[x,y][0])/255)+value\n",
        "\n",
        "    value=(value/(width*height))*100\n",
        "    return value\n",
        "\n",
        "#print(uaci(\"encrypted16.png\",\"encrypted116.png\"))\n",
        "\n",
        "#decrypted image and original image\n",
        "\n",
        "\"\"\"\n",
        "It contains a module named rootmeansquareerror().It checks the difference occured in the pixels between the original_image\n",
        "and the decrypted_image.If all pixels are same then this will return 0.\n",
        "rootmeansquareerror() can be called by passing two image location as parameters .one will be original image and the other will be\n",
        "decrypted image.This uses two libraries pillow for image manipulation and math library\n",
        "\"\"\"\n",
        "def rootmeansquareerror(loc1,loc2):\n",
        "    image1 = Image.open(loc1)\n",
        "    image2 = Image.open(loc2)\n",
        "    pixel1 = image1.load()\n",
        "    pixel2 = image2.load()\n",
        "    width, height = image1.size\n",
        "    value1 = 0.0\n",
        "    value2=0.0\n",
        "    value3=0.0\n",
        "\n",
        "    #comparing of pixel values between two images\n",
        "    for y in range(0,height):\n",
        "        for x in range(0,width):\n",
        "            value1=((pixel1[x,y][0]-pixel2[x,y][0])**2)+value1\n",
        "            value2 = ((pixel1[x, y][1] - pixel2[x, y][1]) ** 2) + value2\n",
        "            value3 = ((pixel1[x, y][2] - pixel2[x, y][2]) ** 2) + value3\n",
        "    value1=value1/(height*width)\n",
        "\n",
        "    return (value1+value2+value3)/3\n"
      ]
    }
  ]
}
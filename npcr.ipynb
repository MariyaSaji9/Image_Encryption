{
  "nbformat": 4,
  "nbformat_minor": 0,
  "metadata": {
    "colab": {
      "provenance": []
    },
    "kernelspec": {
      "name": "python3",
      "display_name": "Python 3"
    },
    "language_info": {
      "name": "python"
    }
  },
  "cells": [
    {
      "cell_type": "code",
      "execution_count": null,
      "metadata": {
        "id": "Xiy9135qCP2I"
      },
      "outputs": [],
      "source": [
        "from PIL import Image\n",
        "import numpy as np\n",
        "\n",
        "\"\"\"\n",
        "    This method compares two image.If the pixel value is same then 0 is stored in the matrix else one is stored\n",
        "\"\"\"\n",
        "def rateofchange(height,width,pixel1,pixel2,matrix,i):\n",
        "\n",
        "    for y in range(0,height):\n",
        "        for x in range(0,width):\n",
        "            #print(x,y)\n",
        "            if pixel1[x,y][i] == pixel2[x,y][i]:\n",
        "                matrix[x,y]=0\n",
        "            else:\n",
        "                matrix[x,y]=1\n",
        "    return matrix\n",
        "\"\"\"\n",
        "    sum of the values of 1 stored in matrix is calculated\n",
        "\"\"\"\n",
        "def sumofpixel(height,width,pixel1,pixel2,ematrix,i):\n",
        "    matrix=rateofchange(height,width,pixel1,pixel2,ematrix,i)\n",
        "    psum=0\n",
        "    for y in range(0,height):\n",
        "        for x in range(0,width):\n",
        "            psum=matrix[x,y]+psum\n",
        "    return psum\n",
        "\n",
        "\"\"\"\n",
        "Finally the above two module is called to calculate the values\n",
        "\"\"\"\n",
        "def npcrv(loc1,loc2):\n",
        "    c1 = Image.open(loc1)\n",
        "    c2 = Image.open(loc2)\n",
        "    width, height = c1.size\n",
        "    pixel1 = c1.load()\n",
        "    pixel2 = c2.load()\n",
        "    ematrix = np.empty([width, height])\n",
        "    per=(((sumofpixel(height,width,pixel1,pixel2,ematrix,0)/(height*width))*100)+((sumofpixel(height,width,pixel1,pixel2,ematrix,1)/(height*width))*100)+((sumofpixel(height,width,pixel1,pixel2,ematrix,2)/(height*width))*100))/3\n",
        "    return per\n",
        "\n",
        "#print(npcrv(\"encrypted116.png\",\"encrypted16.png\"))"
      ]
    }
  ]
}
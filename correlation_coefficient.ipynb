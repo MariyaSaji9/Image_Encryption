{
  "nbformat": 4,
  "nbformat_minor": 0,
  "metadata": {
    "colab": {
      "provenance": []
    },
    "kernelspec": {
      "name": "python3",
      "display_name": "Python 3"
    },
    "language_info": {
      "name": "python"
    }
  },
  "cells": [
    {
      "cell_type": "code",
      "execution_count": null,
      "metadata": {
        "id": "E0ZV5EVlcCqK"
      },
      "outputs": [],
      "source": [
        "\"\"\"\n",
        "This module two libraries pillow as PIL and math lib.This module is based on a mathematical formula called\n",
        " pearson's correlation coefficient.It calculates the relation between two adjacent pixel values.Each component of the\n",
        " formula is divided into four parts which are co1,co2,co3,co4.\n",
        "\n",
        " It has a module named corr_of_rgb().It calculates correlation of all r,g,b and returns the average correlation\n",
        " of the image.This module can be called by passing the location of the whose correlation coefficient is to be calculated.\n",
        " for example-: corr_of_rgb(loc)\n",
        "\"\"\"\n",
        "\n",
        "from PIL import Image\n",
        "from math import sqrt\n",
        "\n",
        "value_of_x=0\n",
        "value_of_y=0\n",
        "\n",
        "#color_index_of_rgb 0-red,1-green,2-blue\n",
        "def co1(color_index_of_rgb,height,width,pixels):\n",
        "    value=0\n",
        "    for pixel_coordinate_of_y in range(0, height):\n",
        "        for pixel_coordinate_of_x in range(0, width):\n",
        "            if pixel_coordinate_of_x+1==width:\n",
        "                break\n",
        "            value=pixels[pixel_coordinate_of_x,pixel_coordinate_of_y][color_index_of_rgb]*pixels[pixel_coordinate_of_x+1,pixel_coordinate_of_y][color_index_of_rgb]+value\n",
        "\n",
        "\n",
        "    return value*height*width\n",
        "\n",
        "def co2(color_index_of_rgb,height,width,pixels):\n",
        "   global value_of_y\n",
        "   global value_of_x\n",
        "   for pixel_coordinate_of_y in range(0, height):\n",
        "        for pixel_coordinate_of_x in range(0, width):\n",
        "            if pixel_coordinate_of_x+1==width:\n",
        "                break\n",
        "            value_of_x=pixels[pixel_coordinate_of_x,pixel_coordinate_of_y][color_index_of_rgb]+value_of_x\n",
        "            value_of_y=pixels[pixel_coordinate_of_x+1,pixel_coordinate_of_y][color_index_of_rgb]+value_of_y\n",
        "\n",
        "   return value_of_x*value_of_y\n",
        "\n",
        "\n",
        "def co3(color_index_of_rgb,height,width,pixels):\n",
        "    value=0\n",
        "    for pixel_coordinate_of_y in range(0, height):\n",
        "        for pixel_coordinate_of_x in range(0, width):\n",
        "            value=(pixels[pixel_coordinate_of_x,pixel_coordinate_of_y][color_index_of_rgb])**2 +value\n",
        "\n",
        "    xy=(value*height*width)-(value_of_x**2)\n",
        "    return  xy\n",
        "\n",
        "def co4(color_index_of_rgb,height,width,pixels):\n",
        "    value=0\n",
        "    for pixel_coordinate_of_y in range(0, height):\n",
        "        for pixel_coordinate_of_x in range(0, width):\n",
        "            if pixel_coordinate_of_x+1==width:\n",
        "                break\n",
        "            value=(pixels[pixel_coordinate_of_x+1,pixel_coordinate_of_y][color_index_of_rgb]**2)+value\n",
        "\n",
        "    xy=(value*height*width)-(value_of_y**2)\n",
        "    return xy\n",
        "\n",
        "def corr_of_rgb(loc):\n",
        "    global value_of_y\n",
        "    global value_of_x\n",
        "    photo = Image.open(loc)\n",
        "    # cryptotiger.bmp\n",
        "    pixels = photo.load()\n",
        "    width, height = photo.size\n",
        "    value_of_y = 0\n",
        "    value_of_x = 0\n",
        "    r=((co1(0,height,width,pixels)-co2(0,height,width,pixels)) / sqrt(co3(0,height,width,pixels)*co4(0,height,width,pixels)))\n",
        "    value_of_y=0\n",
        "    value_of_x=0\n",
        "    g=((co1(1,height,width,pixels) - co2(1,height,width,pixels)) / sqrt(co3(1,height,width,pixels) * co4(1,height,width,pixels)))\n",
        "    value_of_x=0\n",
        "    value_of_y=0\n",
        "    b=((co1(2,height,width,pixels) - co2(2,height,width,pixels)) / sqrt(co3(2,height,width,pixels) * co4(2,height,width,pixels)))\n",
        "\n",
        "    return ((r+g+b)/3)\n",
        "#cr=(co1()-co2()) / sqrt(co3()*co4())\n",
        "\n",
        "#print(cr)\n",
        "\n",
        "#corr_of_rgb(\"abc.png\")"
      ]
    },
    {
      "cell_type": "code",
      "source": [
        "corr_en = corr_of_rgb(\"/content/drive/MyDrive/project/Samples/Encrypted/fruit_encrypted.jpeg\")\n",
        "corr_im = corr_of_rgb(\"/content/drive/MyDrive/project/Samples/image/fruit_image.jpeg\")"
      ],
      "metadata": {
        "id": "T4ZhCb2PcKXV"
      },
      "execution_count": null,
      "outputs": []
    },
    {
      "cell_type": "code",
      "source": [
        "print(\"correlation of image = \",corr_im)\n",
        "print(\"correlation of encrpted image = \",corr_en)"
      ],
      "metadata": {
        "colab": {
          "base_uri": "https://localhost:8080/"
        },
        "id": "l4DSdpcdc4pX",
        "outputId": "e018a2bb-834e-4609-ffb8-627b4b5e8f3b"
      },
      "execution_count": null,
      "outputs": [
        {
          "output_type": "stream",
          "name": "stdout",
          "text": [
            "correlation of image =  0.9892071934037953\n",
            "correlation of encrpted image =  0.3298093214627508\n"
          ]
        }
      ]
    }
  ]
}